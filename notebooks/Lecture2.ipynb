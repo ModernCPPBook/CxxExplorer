{
 "cells": [
  {
   "cell_type": "markdown",
   "metadata": {},
   "source": [
    "<h1>Lecture 2</h1>"
   ]
  },
  {
   "cell_type": "markdown",
   "metadata": {},
   "source": [
    "<h2>Random numbers</h2>"
   ]
  },
  {
   "cell_type": "code",
   "execution_count": null,
   "metadata": {},
   "outputs": [],
   "source": [
    "#include <cstdlib>\n",
    "#include <iostream>\n",
    "#include <ctime>"
   ]
  },
  {
   "cell_type": "code",
   "execution_count": null,
   "metadata": {},
   "outputs": [],
   "source": [
    "// Use the current time as a random seed\n",
    "std::srand(std::time(0));\n",
    "// Get one random number\n",
    "int random_variable = std::rand();\n",
    "std::cout\n",
    "    << \" Random value on [0 \" << RAND_MAX << \"]: \"\n",
    "    << random_variable << '\\n';"
   ]
  },
  {
   "cell_type": "markdown",
   "metadata": {},
   "source": [
    "<h2>Uniform distributed random numbers</h2>"
   ]
  },
  {
   "cell_type": "code",
   "execution_count": null,
   "metadata": {},
   "outputs": [],
   "source": [
    "#include <random>"
   ]
  },
  {
   "cell_type": "code",
   "execution_count": null,
   "metadata": {},
   "outputs": [],
   "source": [
    ".expr\n",
    "// Generate a random number device\n",
    "std::random_device rd;\n",
    "// Set the standard mersenne_twister_engine\n",
    "std::mt19937 gen(rd ());\n",
    "// Specify the interval [1 ,6]\n",
    "std::uniform_int_distribution <size_t > dis (1, 6);\n",
    "// Specifiy the interval [1.0 ,6.0]\n",
    "std::uniform_real_distribution <double > disd (1 ,6);\n",
    "std::cout << dis(gen) << \" \" << disd(gen) << '\\n';"
   ]
  },
  {
   "cell_type": "markdown",
   "metadata": {},
   "source": [
    "<h2>Computation of the average</h2>"
   ]
  },
  {
   "cell_type": "code",
   "execution_count": null,
   "metadata": {},
   "outputs": [],
   "source": [
    "#include <iomanip>\n",
    "#include <fstream>"
   ]
  },
  {
   "cell_type": "code",
   "execution_count": null,
   "metadata": {},
   "outputs": [],
   "source": [
    "%%writefile numbers.txt\n",
    "3\n",
    "4\n",
    "87\n",
    "-20"
   ]
  },
  {
   "cell_type": "code",
   "execution_count": null,
   "metadata": {},
   "outputs": [],
   "source": [
    ".expr\n",
    "double sum = 0;\n",
    "size_t count = 0;\n",
    "double x = 0;\n",
    "std::ifstream fin(\"numbers.txt\");\n",
    "while (fin >> x)\n",
    "{\n",
    "  sum += x;\n",
    "  ++ count;\n",
    "}\n",
    "std::cout << \" Average : \"\n",
    "    << std::setprecision (3)\n",
    "    << sum / count << std :: endl;"
   ]
  },
  {
   "cell_type": "markdown",
   "metadata": {},
   "source": [
    "<h2>Advanced computing of the average</h2>"
   ]
  },
  {
   "cell_type": "code",
   "execution_count": null,
   "metadata": {},
   "outputs": [],
   "source": [
    "#include <vector>\n",
    "#include <numeric>"
   ]
  },
  {
   "cell_type": "code",
   "execution_count": null,
   "metadata": {},
   "outputs": [],
   "source": [
    "std::vector<double> values;"
   ]
  },
  {
   "cell_type": "code",
   "execution_count": null,
   "metadata": {},
   "outputs": [],
   "source": [
    ".expr\n",
    "double x;\n",
    "std::ifstream fin(\"numbers.txt\");\n",
    "while (fin >> x)\n",
    "{\n",
    "  values.push_back (x);\n",
    "}\n",
    "double sum =\n",
    "  std::accumulate( values.begin (), values.end (), 0.0f);\n",
    "std::cout << \" Average : \"\n",
    "  << sum / values .size () << std :: endl;"
   ]
  },
  {
   "cell_type": "markdown",
   "metadata": {},
   "source": [
    "<h2>Looping over a vector</h2>"
   ]
  },
  {
   "cell_type": "markdown",
   "metadata": {},
   "source": [
    "<h3>Long form</h3>"
   ]
  },
  {
   "cell_type": "code",
   "execution_count": null,
   "metadata": {},
   "outputs": [],
   "source": [
    ".expr\n",
    "for( size_t i = 0; i < values.size () ; i++)\n",
    "{\n",
    "  values[i] *= 2;\n",
    "  std::cout << values[i] << std::endl;\n",
    "}"
   ]
  },
  {
   "cell_type": "markdown",
   "metadata": {},
   "source": [
    "<h3>Short form</h3>"
   ]
  },
  {
   "cell_type": "code",
   "execution_count": null,
   "metadata": {},
   "outputs": [],
   "source": [
    ".expr\n",
    "for(auto& v : values) {\n",
    "    v *= 2;\n",
    "    std::cout << v << std::endl;\n",
    "}"
   ]
  },
  {
   "cell_type": "markdown",
   "metadata": {},
   "source": [
    "<h2>Computing the median</h2>"
   ]
  },
  {
   "cell_type": "code",
   "execution_count": null,
   "metadata": {},
   "outputs": [],
   "source": [
    "typedef std::vector<double>::size_type vec_sz ;"
   ]
  },
  {
   "cell_type": "code",
   "execution_count": null,
   "metadata": {},
   "outputs": [],
   "source": [
    ".expr\n",
    "vec_sz size = values.size();\n",
    "double median = 0;\n",
    "vec_sz mid = size/2;\n",
    "if( size % 2 == 0 )\n",
    "  median = 0.5*( values[mid] + values[mid -1]);\n",
    "else\n",
    "  median = values [mid];\n",
    "std::cout << \"median:\" << median << std::endl;"
   ]
  },
  {
   "cell_type": "code",
   "execution_count": null,
   "metadata": {},
   "outputs": [],
   "source": [
    "#include <algorithm>"
   ]
  },
  {
   "cell_type": "code",
   "execution_count": null,
   "metadata": {},
   "outputs": [],
   "source": [
    ".expr\n",
    "double x;\n",
    "std::ifstream fin(\"numbers.txt\");\n",
    "while (fin >> x)\n",
    "{\n",
    "  values.push_back(x);\n",
    "}\n",
    "std::sort( values.begin (), values.end ());\n",
    "vec_sz mid = values .size () / 2;\n",
    "double median = values .size () % 2 == 0 ?\n",
    "  0.5*( values [mid ]+ values [mid -1]) : values [mid ];\n",
    "std::cout << \" Median : \"\n",
    "  << median << std :: endl;"
   ]
  },
  {
   "cell_type": "markdown",
   "metadata": {},
   "source": [
    "<h2>Functions</h2>"
   ]
  },
  {
   "cell_type": "markdown",
   "metadata": {},
   "source": [
    "<h3>Example: maximum</h3>"
   ]
  },
  {
   "cell_type": "code",
   "execution_count": null,
   "metadata": {},
   "outputs": [],
   "source": [
    "int max(int a, int b)\n",
    "{\n",
    "  return a>b?a:b;\n",
    "}"
   ]
  },
  {
   "cell_type": "markdown",
   "metadata": {},
   "source": [
    "<h3>Function definition for the median</h3>"
   ]
  },
  {
   "cell_type": "code",
   "execution_count": null,
   "metadata": {},
   "outputs": [],
   "source": [
    "double median_func (std :: vector <double > values )\n",
    "{\n",
    "  std::sort(values.begin(), values.end ());\n",
    "  vec_sz mid = values.size () / 2;\n",
    "  double res = values.size () % 2 == 0 ?\n",
    "    0.5*( values [mid] + values [mid-1]) : values [mid ];\n",
    "  return res;\n",
    "}"
   ]
  },
  {
   "cell_type": "code",
   "execution_count": null,
   "metadata": {},
   "outputs": [],
   "source": [
    "std::cout << median_func(values) << std::endl;"
   ]
  },
  {
   "cell_type": "code",
   "execution_count": null,
   "metadata": {},
   "outputs": [],
   "source": []
  }
 ],
 "metadata": {
  "kernelspec": {
   "display_name": "C++17",
   "language": "C++",
   "name": "cling-cpp17"
  },
  "language_info": {
   "codemirror_mode": "c++",
   "file_extension": ".c++",
   "mimetype": "text/x-c++src",
   "name": "c++"
  }
 },
 "nbformat": 4,
 "nbformat_minor": 4
}
