{
 "cells": [
  {
   "cell_type": "markdown",
   "metadata": {},
   "source": [
    "# Cling Magic!\n",
    "First, install the cling magic"
   ]
  },
  {
   "cell_type": "code",
   "execution_count": 1,
   "metadata": {},
   "outputs": [],
   "source": [
    "from cling import cling"
   ]
  },
  {
   "cell_type": "markdown",
   "metadata": {},
   "source": [
    "Now you can execute C++ statements, one at a time. Usually, it's a\n",
    "good idea to execute headers by themselves."
   ]
  },
  {
   "cell_type": "code",
   "execution_count": 2,
   "metadata": {},
   "outputs": [],
   "source": [
    "%%cling\n",
    "#include <iostream>"
   ]
  },
  {
   "cell_type": "markdown",
   "metadata": {},
   "source": [
    "When you provide a cling magic cell, it starts a background cling interpreter. All subsequent\n",
    "uses of cling magic sends commands to that same interpreter."
   ]
  },
  {
   "cell_type": "code",
   "execution_count": 3,
   "metadata": {},
   "outputs": [
    {
     "data": {
      "text/html": [
       "<div style='background: #f8f8ff;'><pre>magic!\n",
       "</pre></div>"
      ],
      "text/plain": [
       "<IPython.core.display.HTML object>"
      ]
     },
     "metadata": {},
     "output_type": "display_data"
    },
    {
     "data": {
      "text/html": [
       "<div style='background: #eeffee;'><pre>\n",
       "(std::basic_ostream&lt;char, std::char_traits&lt;char&gt; &gt;::__ostream_type &amp;) @0x7fa6bc065500\n",
       "</pre></div>"
      ],
      "text/plain": [
       "<IPython.core.display.HTML object>"
      ]
     },
     "metadata": {},
     "output_type": "display_data"
    }
   ],
   "source": [
    "%%cling\n",
    "#include <iostream>\n",
    "\n",
    "std::cout << \"magic!\" << std::endl;"
   ]
  },
  {
   "cell_type": "markdown",
   "metadata": {},
   "source": [
    "## Communicating between Python and Cling\n",
    "If you define Python variables, you can send them to your c++ code. Anywhere\n",
    "the string {pythonvar} occurs, the C++ code will be replaced with the contents of the Python variable."
   ]
  },
  {
   "cell_type": "code",
   "execution_count": 4,
   "metadata": {},
   "outputs": [],
   "source": [
    "foo = \"world\""
   ]
  },
  {
   "cell_type": "code",
   "execution_count": 5,
   "metadata": {},
   "outputs": [
    {
     "data": {
      "text/html": [
       "<div style='background: #f8f8ff;'><pre>Hello world {baz}\n",
       "</pre></div>"
      ],
      "text/plain": [
       "<IPython.core.display.HTML object>"
      ]
     },
     "metadata": {},
     "output_type": "display_data"
    },
    {
     "data": {
      "text/html": [
       "<div style='background: #eeffee;'><pre>\n",
       "(std::basic_ostream&lt;char, std::char_traits&lt;char&gt; &gt;::__ostream_type &amp;) @0x7fa6bc065500\n",
       "</pre></div>"
      ],
      "text/plain": [
       "<IPython.core.display.HTML object>"
      ]
     },
     "metadata": {},
     "output_type": "display_data"
    }
   ],
   "source": [
    "%%cling\n",
    "// Note that \"baz\" is not defined by Python, but \"foo\" is.\n",
    "std::cout << \"Hello {foo} {baz}\" << std::endl;"
   ]
  },
  {
   "cell_type": "markdown",
   "metadata": {},
   "source": [
    "You can also communicate from C++ to Python. To do this, provide a variable name\n",
    "on the same line as the \"%%cling\" statement."
   ]
  },
  {
   "cell_type": "code",
   "execution_count": 6,
   "metadata": {},
   "outputs": [
    {
     "data": {
      "text/html": [
       "<div style='background: #f8f8ff;'><pre>a=3\n",
       "</pre></div>"
      ],
      "text/plain": [
       "<IPython.core.display.HTML object>"
      ]
     },
     "metadata": {},
     "output_type": "display_data"
    },
    {
     "data": {
      "text/html": [
       "<div style='background: #eeffee;'><pre>\n",
       "(std::basic_ostream&lt;char, std::char_traits&lt;char&gt; &gt;::__ostream_type &amp;) @0x7fa6bc065500\n",
       "</pre></div>"
      ],
      "text/plain": [
       "<IPython.core.display.HTML object>"
      ]
     },
     "metadata": {},
     "output_type": "display_data"
    }
   ],
   "source": [
    "%%cling feedback\n",
    "int aa;\n",
    "aa = 3;\n",
    "std::cout << \"a=\" << aa << std::endl;"
   ]
  },
  {
   "cell_type": "code",
   "execution_count": 7,
   "metadata": {},
   "outputs": [
    {
     "data": {
      "text/plain": [
       "{'out': 'a=3\\n',\n",
       " 'err': '',\n",
       " 'type': '\\n(std::basic_ostream<char, std::char_traits<char> >::__ostream_type &) @0x7fa6bc065500\\n'}"
      ]
     },
     "execution_count": 7,
     "metadata": {},
     "output_type": "execute_result"
    }
   ],
   "source": [
    "feedback"
   ]
  },
  {
   "cell_type": "markdown",
   "metadata": {},
   "source": [
    "## Replay\n",
    "It may happen that you kill your session by causing a segfault."
   ]
  },
  {
   "cell_type": "code",
   "execution_count": 8,
   "metadata": {},
   "outputs": [
    {
     "data": {
      "text/html": [
       "<div style='background: #f8f8ff;'><pre>\n",
       "Segfault or Fatal error</pre></div>"
      ],
      "text/plain": [
       "<IPython.core.display.HTML object>"
      ]
     },
     "metadata": {},
     "output_type": "display_data"
    },
    {
     "data": {
      "text/html": [
       "<div style='background: #ffcccc;'><pre>\n",
       "Segfault or Fatal error</pre></div>"
      ],
      "text/plain": [
       "<IPython.core.display.HTML object>"
      ]
     },
     "metadata": {},
     "output_type": "display_data"
    }
   ],
   "source": [
    "%%cling\n",
    "int *ptr = 0;\n",
    "ptr[0]=1;"
   ]
  },
  {
   "cell_type": "markdown",
   "metadata": {},
   "source": [
    "In this case, you can replay all the commands prior to the segfault."
   ]
  },
  {
   "cell_type": "code",
   "execution_count": 9,
   "metadata": {},
   "outputs": [
    {
     "data": {
      "text/html": [
       "<div style='background: #eeeeee;'><pre>replaying: #include &lt;iostream&gt;\n",
       "</pre></div>"
      ],
      "text/plain": [
       "<IPython.core.display.HTML object>"
      ]
     },
     "metadata": {},
     "output_type": "display_data"
    },
    {
     "data": {
      "text/html": [
       "<div style='background: #eeeeee;'><pre>replaying: #include &lt;iostream&gt;\n",
       "\n",
       "std::cout &lt;&lt; &quot;magic!&quot; &lt;&lt; std::endl;\n",
       "</pre></div>"
      ],
      "text/plain": [
       "<IPython.core.display.HTML object>"
      ]
     },
     "metadata": {},
     "output_type": "display_data"
    },
    {
     "data": {
      "text/html": [
       "<div style='background: #f8f8ff;'><pre>magic!\n",
       "</pre></div>"
      ],
      "text/plain": [
       "<IPython.core.display.HTML object>"
      ]
     },
     "metadata": {},
     "output_type": "display_data"
    },
    {
     "data": {
      "text/html": [
       "<div style='background: #eeeeee;'><pre>replaying: // Note that &quot;baz&quot; is not defined by Python, but &quot;foo&quot; is.\n",
       "std::cout &lt;&lt; &quot;Hello world {baz}&quot; &lt;&lt; std::endl;\n",
       "</pre></div>"
      ],
      "text/plain": [
       "<IPython.core.display.HTML object>"
      ]
     },
     "metadata": {},
     "output_type": "display_data"
    },
    {
     "data": {
      "text/html": [
       "<div style='background: #f8f8ff;'><pre>Hello world {baz}\n",
       "</pre></div>"
      ],
      "text/plain": [
       "<IPython.core.display.HTML object>"
      ]
     },
     "metadata": {},
     "output_type": "display_data"
    },
    {
     "data": {
      "text/html": [
       "<div style='background: #eeeeee;'><pre>replaying: int aa;\n",
       "aa = 3;\n",
       "std::cout &lt;&lt; &quot;a=&quot; &lt;&lt; aa &lt;&lt; std::endl;\n",
       "</pre></div>"
      ],
      "text/plain": [
       "<IPython.core.display.HTML object>"
      ]
     },
     "metadata": {},
     "output_type": "display_data"
    },
    {
     "data": {
      "text/html": [
       "<div style='background: #f8f8ff;'><pre>a=3\n",
       "</pre></div>"
      ],
      "text/plain": [
       "<IPython.core.display.HTML object>"
      ]
     },
     "metadata": {},
     "output_type": "display_data"
    }
   ],
   "source": [
    "from cling import replay\n",
    "replay()"
   ]
  },
  {
   "cell_type": "code",
   "execution_count": 10,
   "metadata": {},
   "outputs": [
    {
     "data": {
      "text/html": [
       "<div style='background: #f8f8ff;'><pre>aa=3\n",
       "</pre></div>"
      ],
      "text/plain": [
       "<IPython.core.display.HTML object>"
      ]
     },
     "metadata": {},
     "output_type": "display_data"
    },
    {
     "data": {
      "text/html": [
       "<div style='background: #eeffee;'><pre>\n",
       "(std::basic_ostream&lt;char, std::char_traits&lt;char&gt; &gt;::__ostream_type &amp;) @0x7f1501a22500\n",
       "</pre></div>"
      ],
      "text/plain": [
       "<IPython.core.display.HTML object>"
      ]
     },
     "metadata": {},
     "output_type": "display_data"
    }
   ],
   "source": [
    "%%cling\n",
    "std::cout << \"aa=\" << aa << std::endl;"
   ]
  },
  {
   "cell_type": "markdown",
   "metadata": {},
   "source": [
    "The \"--init\" option forces the cling kernel to restart, wiping out all history."
   ]
  },
  {
   "cell_type": "code",
   "execution_count": 11,
   "metadata": {},
   "outputs": [],
   "source": [
    "%%cling --init\n",
    "#include <string>"
   ]
  },
  {
   "cell_type": "code",
   "execution_count": 12,
   "metadata": {},
   "outputs": [],
   "source": [
    "%%cling\n",
    "std::string aa = \"new value\";"
   ]
  },
  {
   "cell_type": "code",
   "execution_count": 13,
   "metadata": {},
   "outputs": [
    {
     "data": {
      "text/html": [
       "<div style='background: #f8f8ff;'><pre>fib(10)=55\n",
       "</pre></div>"
      ],
      "text/plain": [
       "<IPython.core.display.HTML object>"
      ]
     },
     "metadata": {},
     "output_type": "display_data"
    },
    {
     "data": {
      "text/html": [
       "<div style='background: #eeffee;'><pre>\n",
       "(void) @0x7fff64dc0db8\n",
       "</pre></div>"
      ],
      "text/plain": [
       "<IPython.core.display.HTML object>"
      ]
     },
     "metadata": {},
     "output_type": "display_data"
    }
   ],
   "source": [
    "%%cling\n",
    "\n",
    "#include <run_hpx.cpp>\n",
    "#include <functional>\n",
    "\n",
    "// The Fibonacci function written using hpx async\n",
    "int fib(int n) {\n",
    "    if(n < 2) return n;\n",
    "    \n",
    "    // launch a thread\n",
    "    hpx::future<int> f1 = hpx::async(hpx::launch::async, fib,n-1);\n",
    "    \n",
    "    // do work while the thread is running\n",
    "    int f2 = fib(n-2);\n",
    "    \n",
    "    // wait for the thread to complete\n",
    "    return f1.get() + f2;\n",
    "}\n",
    "\n",
    "// HPX needs a special environment. Wrap it\n",
    "// in a call to run_hpx().\n",
    "run_hpx([](){\n",
    "    int n=10;\n",
    "    std::cout << \"fib(\" << n << \")=\" << fib(n) << std::endl;});"
   ]
  }
 ],
 "metadata": {
  "kernelspec": {
   "display_name": "Python 3",
   "language": "python",
   "name": "python3"
  },
  "language_info": {
   "codemirror_mode": {
    "name": "ipython",
    "version": 3
   },
   "file_extension": ".py",
   "mimetype": "text/x-python",
   "name": "python",
   "nbconvert_exporter": "python",
   "pygments_lexer": "ipython3",
   "version": "3.6.8"
  }
 },
 "nbformat": 4,
 "nbformat_minor": 2
}
