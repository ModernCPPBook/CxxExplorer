{
 "cells": [
  {
   "cell_type": "markdown",
   "metadata": {},
   "source": [
    "# Numerical Limits"
   ]
  },
  {
   "cell_type": "code",
   "execution_count": null,
   "metadata": {},
   "outputs": [],
   "source": [
    "#include <limits>\n",
    "#include <iostream>"
   ]
  },
  {
   "cell_type": "code",
   "execution_count": null,
   "metadata": {},
   "outputs": [],
   "source": [
    "std::cout << \"type\\tmin()\\t\\tmax()\\n\";\n",
    "std::cout << \"int\\t\"\n",
    "<< std::numeric_limits<unsigned int>::min() << '\\t'\n",
    "<< std::numeric_limits<unsigned int>::max() << '\\n';\n",
    "std::cout << \"int\\t\"\n",
    "<< std::numeric_limits<int>::min() << '\\t'\n",
    "<< std::numeric_limits<int>::max() << '\\n';\n"
   ]
  },
  {
   "cell_type": "markdown",
   "metadata": {},
   "source": [
    "## Floating point numbers"
   ]
  },
  {
   "cell_type": "code",
   "execution_count": null,
   "metadata": {},
   "outputs": [],
   "source": [
    "  std::cout << \"type\\tround()\\teps\\tmin()\\t\\tmax()\\n\";\n",
    "  std::cout << \"double\\t\"\n",
    "    << std::numeric_limits<double>::round_error() <<'\\t'\n",
    "    << std::numeric_limits<double>::epsilon() <<'\\t'\n",
    "    << std::numeric_limits<double>::min() <<'\\t'\n",
    "    << std::numeric_limits<double>::max() <<'\\n';\n"
   ]
  },
  {
   "cell_type": "code",
   "execution_count": null,
   "metadata": {},
   "outputs": [],
   "source": []
  }
 ],
 "metadata": {
  "kernelspec": {
   "display_name": "C++17",
   "language": "C++",
   "name": "cling-cpp17"
  },
  "language_info": {
   "codemirror_mode": "c++",
   "file_extension": ".c++",
   "mimetype": "text/x-c++src",
   "name": "c++"
  }
 },
 "nbformat": 4,
 "nbformat_minor": 2
}
