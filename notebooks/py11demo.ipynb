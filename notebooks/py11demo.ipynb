{
 "cells": [
  {
   "cell_type": "markdown",
   "metadata": {},
   "source": [
    "# First, import the py11 module\n",
    "\n",
    "The underlying technology that makes this work on pybind11 (https://github.com/pybind/pybind11)\n",
    "\n",
    "It compiles individual functions in C++ to provide an more dynamic approach to C++ programming.\n",
    "\n",
    "First step, import the following symbols..."
   ]
  },
  {
   "cell_type": "code",
   "execution_count": 1,
   "metadata": {},
   "outputs": [],
   "source": [
    "!rm -fr ~/tmp\n",
    "!mkdir -p ~/tmp"
   ]
  },
  {
   "cell_type": "code",
   "execution_count": 2,
   "metadata": {},
   "outputs": [],
   "source": [
    "from py11 import py11, smap, svec"
   ]
  },
  {
   "cell_type": "markdown",
   "metadata": {},
   "source": [
    "To create a C++ function that's callable from Python, use the @py11 decorator and\n",
    "put your code in the docstring. You\n",
    "can supply it with a list of headers needed. You can modify the source and\n",
    "re-execute the cell if you want different output."
   ]
  },
  {
   "cell_type": "code",
   "execution_count": 3,
   "metadata": {},
   "outputs": [
    {
     "name": "stdout",
     "output_type": "stream",
     "text": [
      "g++ -std=c++14 -I/usr/include/python3.6m -I/usr/local/include -rdynamic -fPIC -shared -o /home/stevenrbrandt/tmp/hello_v1.so /home/stevenrbrandt/tmp/hello.cpp\n"
     ]
    }
   ],
   "source": [
    "@py11(headers=['<iostream>'])\n",
    "def hello():\n",
    "    \"\"\"\n",
    "    std::cout << \"Hello, world\" << std::endl;\n",
    "    std::cerr << \"Goodbye, world\" << std::endl;\n",
    "    \"\"\""
   ]
  },
  {
   "cell_type": "markdown",
   "metadata": {},
   "source": [
    "We can now call this function directly from Python. It won't recompile again unless we change the source code."
   ]
  },
  {
   "cell_type": "code",
   "execution_count": 4,
   "metadata": {},
   "outputs": [
    {
     "name": "stdout",
     "output_type": "stream",
     "text": [
      "Hello, world\n",
      "Goodbye, world\n"
     ]
    }
   ],
   "source": [
    "hello()"
   ]
  },
  {
   "cell_type": "markdown",
   "metadata": {},
   "source": [
    "We can pass arguments to the function and receive arguments back. To do this, we use\n",
    "Python's syntax for declaring types."
   ]
  },
  {
   "cell_type": "code",
   "execution_count": 7,
   "metadata": {},
   "outputs": [
    {
     "name": "stdout",
     "output_type": "stream",
     "text": [
      "g++ -std=c++14 -I/usr/include/python3.6m -I/usr/local/include -rdynamic -fPIC -shared -o /home/stevenrbrandt/tmp/sumi_v1.so /home/stevenrbrandt/tmp/sumi.cpp\n"
     ]
    }
   ],
   "source": [
    "@py11()\n",
    "def sumi(a : int,b : int)->int:\n",
    "    \"\"\"\n",
    "    // add 2 args\n",
    "    return a+b;\n",
    "    \"\"\""
   ]
  },
  {
   "cell_type": "code",
   "execution_count": 8,
   "metadata": {},
   "outputs": [
    {
     "data": {
      "text/plain": [
       "42"
      ]
     },
     "execution_count": 8,
     "metadata": {},
     "output_type": "execute_result"
    }
   ],
   "source": [
    "sumi(20,22)"
   ]
  },
  {
   "cell_type": "markdown",
   "metadata": {},
   "source": [
    "Static variables can be used to remember state."
   ]
  },
  {
   "cell_type": "code",
   "execution_count": 9,
   "metadata": {},
   "outputs": [
    {
     "name": "stdout",
     "output_type": "stream",
     "text": [
      "g++ -std=c++14 -I/usr/include/python3.6m -I/usr/local/include -rdynamic -fPIC -shared -o /home/stevenrbrandt/tmp/count_v1.so /home/stevenrbrandt/tmp/count.cpp\n"
     ]
    }
   ],
   "source": [
    "@py11()\n",
    "def count()->int:\n",
    "    \"\"\"\n",
    "    static int counter = 0; // remember state\n",
    "    return counter++;\n",
    "    \"\"\""
   ]
  },
  {
   "cell_type": "code",
   "execution_count": 10,
   "metadata": {},
   "outputs": [
    {
     "name": "stdout",
     "output_type": "stream",
     "text": [
      "0\n",
      "1\n",
      "2\n",
      "3\n",
      "4\n"
     ]
    }
   ],
   "source": [
    "for i in range(5):\n",
    "    print(count())"
   ]
  },
  {
   "cell_type": "markdown",
   "metadata": {},
   "source": [
    "If you want to pass a more complex data structure, like an std::vector, use svec."
   ]
  },
  {
   "cell_type": "code",
   "execution_count": 11,
   "metadata": {},
   "outputs": [
    {
     "name": "stdout",
     "output_type": "stream",
     "text": [
      "g++ -std=c++14 -I/usr/include/python3.6m -I/usr/local/include -rdynamic -fPIC -shared -o /home/stevenrbrandt/tmp/sumv_v1.so /home/stevenrbrandt/tmp/sumv.cpp\n"
     ]
    }
   ],
   "source": [
    "@py11(headers=[\"<vector>\"])\n",
    "def sumv(v : svec[int])->int:\n",
    "    \"\"\"\n",
    "    int sum=0;\n",
    "    for(auto i=v.begin(); i != v.end(); ++i)\n",
    "        sum += *i;\n",
    "    return sum;\n",
    "    \"\"\""
   ]
  },
  {
   "cell_type": "code",
   "execution_count": 12,
   "metadata": {},
   "outputs": [
    {
     "data": {
      "text/plain": [
       "10"
      ]
     },
     "execution_count": 12,
     "metadata": {},
     "output_type": "execute_result"
    }
   ],
   "source": [
    "sumv([1,2,3,4])"
   ]
  },
  {
   "cell_type": "markdown",
   "metadata": {},
   "source": [
    "Something similar works for maps..."
   ]
  },
  {
   "cell_type": "code",
   "execution_count": 13,
   "metadata": {},
   "outputs": [
    {
     "name": "stdout",
     "output_type": "stream",
     "text": [
      "g++ -std=c++14 -I/usr/include/python3.6m -I/usr/local/include -rdynamic -fPIC -shared -o /home/stevenrbrandt/tmp/summ_v1.so /home/stevenrbrandt/tmp/summ.cpp\n",
      "13\n"
     ]
    }
   ],
   "source": [
    "@py11(header=['<map>'])\n",
    "def summ(m : smap[str,int])->int:\n",
    "    \"\"\"\n",
    "    int sum = 0;\n",
    "    for(auto i=m.begin();i != m.end();++i) {\n",
    "        sum += i->second;\n",
    "    }\n",
    "    return sum;\n",
    "    \"\"\"\n",
    "\n",
    "print(summ({\"a\":3,\"b\":10}))"
   ]
  },
  {
   "cell_type": "markdown",
   "metadata": {},
   "source": [
    "It is possible to use pybind11 to throw an exception from C++ into Python."
   ]
  },
  {
   "cell_type": "code",
   "execution_count": 14,
   "metadata": {},
   "outputs": [
    {
     "name": "stdout",
     "output_type": "stream",
     "text": [
      "g++ -std=c++14 -I/usr/include/python3.6m -I/usr/local/include -rdynamic -fPIC -shared -o /home/stevenrbrandt/tmp/get_and_set_v1.so /home/stevenrbrandt/tmp/get_and_set.cpp\n"
     ]
    }
   ],
   "source": [
    "@py11()\n",
    "def get_and_set(k : str, v : int, p : bool)->int:\n",
    "    \"\"\"\n",
    "    static std::map<std::string,int> dict;\n",
    "    if(!p)\n",
    "        if(dict.find(k) == dict.end())\n",
    "            throw py::key_error(k);\n",
    "    int r = dict[k];\n",
    "    if(p)dict[k] = v;\n",
    "    return r;\n",
    "        \n",
    "    \"\"\""
   ]
  },
  {
   "cell_type": "code",
   "execution_count": 15,
   "metadata": {},
   "outputs": [
    {
     "data": {
      "text/plain": [
       "0"
      ]
     },
     "execution_count": 15,
     "metadata": {},
     "output_type": "execute_result"
    }
   ],
   "source": [
    "get_and_set(\"a\",3,True)"
   ]
  },
  {
   "cell_type": "code",
   "execution_count": 16,
   "metadata": {},
   "outputs": [
    {
     "data": {
      "text/plain": [
       "3"
      ]
     },
     "execution_count": 16,
     "metadata": {},
     "output_type": "execute_result"
    }
   ],
   "source": [
    "get_and_set(\"a\",0,False)"
   ]
  },
  {
   "cell_type": "code",
   "execution_count": 17,
   "metadata": {},
   "outputs": [
    {
     "ename": "KeyError",
     "evalue": "'b'",
     "output_type": "error",
     "traceback": [
      "\u001b[0;31m---------------------------------------------------------------------------\u001b[0m",
      "\u001b[0;31mKeyError\u001b[0m                                  Traceback (most recent call last)",
      "\u001b[0;32m<ipython-input-17-fe2295c983b9>\u001b[0m in \u001b[0;36m<module>\u001b[0;34m\u001b[0m\n\u001b[0;32m----> 1\u001b[0;31m \u001b[0mget_and_set\u001b[0m\u001b[0;34m(\u001b[0m\u001b[0;34m\"b\"\u001b[0m\u001b[0;34m,\u001b[0m\u001b[0;36m0\u001b[0m\u001b[0;34m,\u001b[0m\u001b[0;32mFalse\u001b[0m\u001b[0;34m)\u001b[0m\u001b[0;34m\u001b[0m\u001b[0;34m\u001b[0m\u001b[0m\n\u001b[0m",
      "\u001b[0;32m/usr/local/lib/python3.6/site-packages/py11.py\u001b[0m in \u001b[0;36m__call__\u001b[0;34m(self, *args)\u001b[0m\n\u001b[1;32m    262\u001b[0m                 \u001b[0mos\u001b[0m\u001b[0;34m.\u001b[0m\u001b[0mdup\u001b[0m\u001b[0;34m(\u001b[0m\u001b[0mfd2\u001b[0m\u001b[0;34m.\u001b[0m\u001b[0mfileno\u001b[0m\u001b[0;34m(\u001b[0m\u001b[0;34m)\u001b[0m\u001b[0;34m)\u001b[0m\u001b[0;34m\u001b[0m\u001b[0;34m\u001b[0m\u001b[0m\n\u001b[1;32m    263\u001b[0m \u001b[0;34m\u001b[0m\u001b[0m\n\u001b[0;32m--> 264\u001b[0;31m                 \u001b[0;32mreturn\u001b[0m \u001b[0mself\u001b[0m\u001b[0;34m.\u001b[0m\u001b[0mm\u001b[0m\u001b[0;34m.\u001b[0m\u001b[0mcall\u001b[0m\u001b[0;34m(\u001b[0m\u001b[0;34m*\u001b[0m\u001b[0margs\u001b[0m\u001b[0;34m)\u001b[0m\u001b[0;34m\u001b[0m\u001b[0;34m\u001b[0m\u001b[0m\n\u001b[0m\u001b[1;32m    265\u001b[0m             \u001b[0;32mfinally\u001b[0m\u001b[0;34m:\u001b[0m\u001b[0;34m\u001b[0m\u001b[0;34m\u001b[0m\u001b[0m\n\u001b[1;32m    266\u001b[0m                 \u001b[0mfd1\u001b[0m\u001b[0;34m.\u001b[0m\u001b[0mclose\u001b[0m\u001b[0;34m(\u001b[0m\u001b[0;34m)\u001b[0m\u001b[0;34m\u001b[0m\u001b[0;34m\u001b[0m\u001b[0m\n",
      "\u001b[0;31mKeyError\u001b[0m: 'b'"
     ]
    }
   ],
   "source": [
    "get_and_set(\"b\",0,False)"
   ]
  },
  {
   "cell_type": "markdown",
   "metadata": {},
   "source": [
    "Recursion works..."
   ]
  },
  {
   "cell_type": "code",
   "execution_count": 18,
   "metadata": {},
   "outputs": [
    {
     "name": "stdout",
     "output_type": "stream",
     "text": [
      "g++ -std=c++14 -I/usr/include/python3.6m -I/usr/local/include -rdynamic -fPIC -shared -o /home/stevenrbrandt/tmp/fib_v1.so /home/stevenrbrandt/tmp/fib.cpp\n"
     ]
    }
   ],
   "source": [
    "@py11()\n",
    "def fib(n : int)->int:\n",
    "    \"\"\"\n",
    "    if(n < 2) return n;\n",
    "    return fib(n-1)+fib(n-2);\n",
    "    \"\"\""
   ]
  },
  {
   "cell_type": "markdown",
   "metadata": {},
   "source": [
    "If we define a Python version of this same function, we can run a benchmark..."
   ]
  },
  {
   "cell_type": "code",
   "execution_count": 19,
   "metadata": {},
   "outputs": [],
   "source": [
    "def fib2(n):\n",
    "    if n < 2:\n",
    "        return n\n",
    "    return fib2(n-1)+fib2(n-2)"
   ]
  },
  {
   "cell_type": "code",
   "execution_count": 20,
   "metadata": {},
   "outputs": [],
   "source": [
    "def timer(fun,*args):\n",
    "    from time import time\n",
    "    t1 = time()\n",
    "    fun(*args)\n",
    "    t2 = time()\n",
    "    print(\"time:\",t2-t1)"
   ]
  },
  {
   "cell_type": "markdown",
   "metadata": {},
   "source": [
    "You should find that fib is much faster than fib2."
   ]
  },
  {
   "cell_type": "code",
   "execution_count": 21,
   "metadata": {},
   "outputs": [
    {
     "name": "stdout",
     "output_type": "stream",
     "text": [
      "time: 0.09941720962524414\n",
      "time: 2.3330471515655518\n"
     ]
    }
   ],
   "source": [
    "timer(fib,34)\n",
    "timer(fib2,34)"
   ]
  },
  {
   "cell_type": "markdown",
   "metadata": {},
   "source": [
    "If we want to call one @py11() function from another, we can. However, we need to specify what\n",
    "we are doing by means of the funs parameter."
   ]
  },
  {
   "cell_type": "code",
   "execution_count": 22,
   "metadata": {},
   "outputs": [
    {
     "name": "stdout",
     "output_type": "stream",
     "text": [
      "g++ -std=c++14 -I/usr/include/python3.6m -I/usr/local/include -rdynamic -fPIC -shared -o /home/stevenrbrandt/tmp/print_fib_v1.so /home/stevenrbrandt/tmp/print_fib.cpp\n"
     ]
    }
   ],
   "source": [
    "@py11(funs=[fib])\n",
    "def print_fib(n:int)->None:\n",
    "    \"\"\"\n",
    "    std::cout << \"fib(\" << n << \") = \" << fib(n) << std::endl;\n",
    "    \"\"\""
   ]
  },
  {
   "cell_type": "code",
   "execution_count": 23,
   "metadata": {},
   "outputs": [
    {
     "name": "stdout",
     "output_type": "stream",
     "text": [
      "fib(15) = 610\n"
     ]
    }
   ],
   "source": [
    "print_fib(15)"
   ]
  },
  {
   "cell_type": "markdown",
   "metadata": {},
   "source": [
    "Note that if we redefine fib, print_fib() will automatically\n",
    "update to use the new version."
   ]
  },
  {
   "cell_type": "code",
   "execution_count": 24,
   "metadata": {},
   "outputs": [
    {
     "name": "stdout",
     "output_type": "stream",
     "text": [
      "g++ -std=c++14 -I/usr/include/python3.6m -I/usr/local/include -rdynamic -fPIC -shared -o /home/stevenrbrandt/tmp/fib_v2.so /home/stevenrbrandt/tmp/fib.cpp\n"
     ]
    }
   ],
   "source": [
    "@py11()\n",
    "def fib(n : int)->int:\n",
    "    \"\"\"\n",
    "    if(n < 0) return n;\n",
    "    return fib(n-1)+fib(n-2);\n",
    "    \"\"\""
   ]
  },
  {
   "cell_type": "code",
   "execution_count": 25,
   "metadata": {},
   "outputs": [
    {
     "name": "stdout",
     "output_type": "stream",
     "text": [
      "fib(15) = -3571\n"
     ]
    }
   ],
   "source": [
    "print_fib(15)"
   ]
  },
  {
   "cell_type": "markdown",
   "metadata": {},
   "source": [
    "If we want to change the compile flags, we can."
   ]
  },
  {
   "cell_type": "code",
   "execution_count": 26,
   "metadata": {},
   "outputs": [],
   "source": [
    "from py11 import py11, create_type, set_flags\n",
    "\n",
    "# Set the compile flags\n",
    "set_flags(\"-std=c++17 -L/usr/local/lib64 -lhpx\")\n",
    "\n",
    "# Create your own types\n",
    "create_type(\"func\",\"std::function<void()>\")"
   ]
  },
  {
   "cell_type": "markdown",
   "metadata": {},
   "source": [
    "Sometimes you need to set the LD_LIBRARY_PATH"
   ]
  },
  {
   "cell_type": "code",
   "execution_count": 27,
   "metadata": {},
   "outputs": [],
   "source": [
    "import os\n",
    "os.environ[\"LD_LIBRARY_PATH\"]=\"/usr/local/lib64\""
   ]
  },
  {
   "cell_type": "markdown",
   "metadata": {},
   "source": [
    "HPX is an advanced parallel threading library. However, to use it, you have to have a\n",
    "special threading environment. To make this work, we will create a \"wrapper function.\"\n",
    "This function needs to take a std::function<void()> as an input argument."
   ]
  },
  {
   "cell_type": "code",
   "execution_count": 28,
   "metadata": {},
   "outputs": [
    {
     "name": "stdout",
     "output_type": "stream",
     "text": [
      "g++ -std=c++17 -L/usr/local/lib64 -lhpx -I/usr/include/python3.6m -I/usr/local/include -rdynamic -fPIC -shared -o /home/stevenrbrandt/tmp/hpx_wrapper_v1.so /home/stevenrbrandt/tmp/hpx_wrapper.cpp\n"
     ]
    }
   ],
   "source": [
    "@py11(headers=[\"<run_hpx.cpp>\"],recompile=True)\n",
    "def hpx_wrapper(f : func)->None:\n",
    "    \"\"\"\n",
    "    const char *num = getenv(\"HPX_NUM_THREADS\");\n",
    "    int num_threads = num == 0 ? 4 : atoi(num);\n",
    "    std::cout << \"Using \" << num_threads << \" threads.\" << std::endl;\n",
    "    hpx_global::submit_work(num_threads,f);\n",
    "    \"\"\""
   ]
  },
  {
   "cell_type": "code",
   "execution_count": 29,
   "metadata": {},
   "outputs": [
    {
     "name": "stdout",
     "output_type": "stream",
     "text": [
      "g++ -std=c++17 -L/usr/local/lib64 -lhpx -I/usr/include/python3.6m -I/usr/local/include -rdynamic -fPIC -shared -o /home/stevenrbrandt/tmp/do_fut_v1.so /home/stevenrbrandt/tmp/do_fut.cpp\n"
     ]
    }
   ],
   "source": [
    "@py11(headers=[\"<hpx/hpx.hpp>\"],recompile=True,wrap=hpx_wrapper)\n",
    "def do_fut()->None:\n",
    "    \"\"\"\n",
    "    auto f = hpx::async([](){ return 5; });\n",
    "    std::cout << \"f=\" << f.get() << std::endl;\n",
    "    \"\"\""
   ]
  },
  {
   "cell_type": "code",
   "execution_count": 30,
   "metadata": {},
   "outputs": [
    {
     "name": "stdout",
     "output_type": "stream",
     "text": [
      "Using 4 threads.\n",
      "f=5\n"
     ]
    }
   ],
   "source": [
    "do_fut()"
   ]
  },
  {
   "cell_type": "code",
   "execution_count": 31,
   "metadata": {},
   "outputs": [],
   "source": [
    "create_type(\"future\",\"hpx::future\",is_template=True)"
   ]
  },
  {
   "cell_type": "code",
   "execution_count": 32,
   "metadata": {
    "scrolled": true
   },
   "outputs": [
    {
     "name": "stdout",
     "output_type": "stream",
     "text": [
      "g++ -std=c++17 -L/usr/local/lib64 -lhpx -I/usr/include/python3.6m -I/usr/local/include -rdynamic -fPIC -shared -o /home/stevenrbrandt/tmp/hpx_fib_v1.so /home/stevenrbrandt/tmp/hpx_fib.cpp\n"
     ]
    }
   ],
   "source": [
    "@py11(headers=[\"<hpx/hpx.hpp>\"],recompile=True,wrap=hpx_wrapper)\n",
    "def hpx_fib(n : int)->int:\n",
    "    \"\"\"\n",
    "    if(n < 2)\n",
    "        return n;\n",
    "    if(n < 25)\n",
    "        return hpx_fib(n-1)+hpx_fib(n-2);\n",
    "    hpx::future<int> f1 = hpx::async(hpx_fib,n-1);\n",
    "    int f2 = hpx_fib(n-2);\n",
    "    return f1.get() + f2;\n",
    "    \"\"\""
   ]
  },
  {
   "cell_type": "code",
   "execution_count": 33,
   "metadata": {},
   "outputs": [
    {
     "name": "stdout",
     "output_type": "stream",
     "text": [
      "Using 4 threads.\n"
     ]
    },
    {
     "data": {
      "text/plain": [
       "(5702887, 5702887)"
      ]
     },
     "execution_count": 33,
     "metadata": {},
     "output_type": "execute_result"
    }
   ],
   "source": [
    "nfib = 34\n",
    "(hpx_fib(nfib), fib2(nfib))"
   ]
  },
  {
   "cell_type": "code",
   "execution_count": 34,
   "metadata": {},
   "outputs": [
    {
     "name": "stdout",
     "output_type": "stream",
     "text": [
      "Using 4 threads.\n",
      "time: 0.06061148643493652\n",
      "time: 2.433096170425415\n"
     ]
    }
   ],
   "source": [
    "nfib = 34\n",
    "timer(hpx_fib,nfib)\n",
    "timer(fib2,    nfib)"
   ]
  },
  {
   "cell_type": "code",
   "execution_count": 35,
   "metadata": {},
   "outputs": [],
   "source": [
    "def timer2(fun,args,zargs):\n",
    "    from time import time\n",
    "    t1 = time()\n",
    "    fun(*args)\n",
    "    t2 = time()\n",
    "    fun(*zargs)\n",
    "    t3 = time()\n",
    "    \n",
    "    del1 = t2-t1 # time with args\n",
    "    del2 = t3-t2 # time with zargs\n",
    "    \n",
    "    delt = del1 - del2\n",
    "    print(\"time:\",delt)"
   ]
  },
  {
   "cell_type": "code",
   "execution_count": 36,
   "metadata": {},
   "outputs": [
    {
     "name": "stdout",
     "output_type": "stream",
     "text": [
      "Using 4 threads.\n",
      "Using 4 threads.\n",
      "time: 0.038722991943359375\n",
      "time: 2.3845033645629883\n"
     ]
    }
   ],
   "source": [
    "nfib = 34\n",
    "timer2(hpx_fib,[nfib],[1])\n",
    "timer2(fib2,   [nfib],[1])"
   ]
  },
  {
   "cell_type": "markdown",
   "metadata": {},
   "source": [
    "Sometimes calling C++ can kill the notebook kernel. To avoid that problem, we can run in a thread."
   ]
  },
  {
   "cell_type": "code",
   "execution_count": 37,
   "metadata": {},
   "outputs": [],
   "source": [
    "def run_fork(f,*args):\n",
    "    import os\n",
    "    pid = os.fork()\n",
    "    if pid==0:\n",
    "        f(*args)\n",
    "        os._exit(0)\n",
    "    else:\n",
    "        while True:\n",
    "            wpid, wstatus = os.wait()\n",
    "            if wpid == pid:\n",
    "                if wstatus == 0:\n",
    "                    pass\n",
    "                print(\"status:\",wstatus)\n",
    "                return"
   ]
  },
  {
   "cell_type": "code",
   "execution_count": 38,
   "metadata": {},
   "outputs": [
    {
     "name": "stdout",
     "output_type": "stream",
     "text": [
      "g++ -std=c++17 -L/usr/local/lib64 -lhpx -I/usr/include/python3.6m -I/usr/local/include -rdynamic -fPIC -shared -o /home/stevenrbrandt/tmp/segv_v1.so /home/stevenrbrandt/tmp/segv.cpp\n"
     ]
    }
   ],
   "source": [
    "@py11()\n",
    "def segv():\n",
    "    \"\"\"\n",
    "    int *i=0;\n",
    "    i[0]=1;\n",
    "    \"\"\""
   ]
  },
  {
   "cell_type": "code",
   "execution_count": 39,
   "metadata": {},
   "outputs": [
    {
     "name": "stdout",
     "output_type": "stream",
     "text": [
      "status: 65280\n"
     ]
    }
   ],
   "source": [
    "run_fork(segv)"
   ]
  },
  {
   "cell_type": "code",
   "execution_count": 40,
   "metadata": {},
   "outputs": [
    {
     "name": "stdout",
     "output_type": "stream",
     "text": [
      "g++ -std=c++17 -L/usr/local/lib64 -lhpx -I/usr/include/python3.6m -I/usr/local/include -rdynamic -fPIC -shared -o /home/stevenrbrandt/tmp/prvec_v1.so /home/stevenrbrandt/tmp/prvec.cpp\n"
     ]
    }
   ],
   "source": [
    "@py11()\n",
    "def prvec(v : svec[float])->None:\n",
    "    \"\"\"\n",
    "    for(auto i : v)\n",
    "      std::cout << i << \" \";\n",
    "    std::cout << std::endl;\n",
    "    \"\"\""
   ]
  },
  {
   "cell_type": "markdown",
   "metadata": {},
   "source": [
    "Now for some fancy stuff... defining executors that (in principle) can work on more than one locality"
   ]
  },
  {
   "cell_type": "code",
   "execution_count": 42,
   "metadata": {},
   "outputs": [],
   "source": [
    "create_type(\"executor\",\"hpx::compute::host::block_executor<>\")\n",
    "\n",
    "@py11(headers=[\"<hpx/hpx.hpp>\",\"<hpx/include/compute.hpp>\"])\n",
    "def getexec()->executor:\n",
    "    \"\"\"\n",
    "    auto host_targets = hpx::compute::host::get_local_targets();\n",
    "    typedef hpx::compute::host::block_executor<> executor_type;\n",
    "    executor_type exec(host_targets);\n",
    "    \n",
    "    for(auto host : host_targets)\n",
    "        std::cout << host.get_locality() << std::endl;\n",
    "        \n",
    "    return exec;\n",
    "    \"\"\""
   ]
  },
  {
   "cell_type": "markdown",
   "metadata": {},
   "source": [
    "Fill an array"
   ]
  },
  {
   "cell_type": "code",
   "execution_count": 43,
   "metadata": {},
   "outputs": [
    {
     "name": "stdout",
     "output_type": "stream",
     "text": [
      "g++ -std=c++17 -L/usr/local/lib64 -lhpx -I/usr/include/python3.6m -I/usr/local/include -rdynamic -fPIC -shared -o /home/stevenrbrandt/tmp/fill_example_v1.so /home/stevenrbrandt/tmp/fill_example.cpp\n",
      "In file included from /usr/local/include/hpx/parallel/algorithm.hpp:22,\n",
      "                 from /usr/local/include/hpx/algorithm.hpp:10,\n",
      "                 from /usr/local/include/hpx/hpx.hpp:10,\n",
      "                 from /home/stevenrbrandt/tmp/fill_example.cpp:4:\n",
      "/usr/local/include/hpx/parallel/algorithms/fill.hpp: In instantiation of 'typename hpx::parallel::util::detail::algorithm_result<ExPolicy, void>::type hpx::parallel::v1::fill(ExPolicy&&, FwdIter, FwdIter, const T&) [with ExPolicy = hpx::execution::parallel_policy_shim<hpx::compute::host::block_executor<>, hpx::execution::static_chunk_size>; FwdIter = __gnu_cxx::__normal_iterator<float*, std::vector<float> >; T = float; int _concept_requires_217 = 42; typename std::enable_if<((_concept_requires_637 == 43) || (hpx::is_execution_policy<T>::value && hpx::traits::is_forward_iterator<FwdIter>::value)), int>::type _concept_check_217 = 0; typename hpx::parallel::util::detail::algorithm_result<ExPolicy, void>::type = void]':\n",
      "/home/stevenrbrandt/tmp/fill_example.cpp:59:88:   required from here\n",
      "/usr/local/include/hpx/parallel/algorithms/fill.hpp:232:29: error: return-statement with a value, in function returning 'hpx::parallel::util::detail::algorithm_result_impl<hpx::execution::parallel_policy_shim<hpx::compute::host::block_executor<>, hpx::execution::static_chunk_size>, void>::type' {aka 'void'} [-fpermissive]\n",
      "  232 |         return detail::fill_(\n",
      "      |                ~~~~~~~~~~~~~^\n",
      "  233 |             std::forward<ExPolicy>(policy), first, last, value, is_segmented());\n",
      "      |             ~~~~~~~~~~~~~~~~~~~~~~~~~~~~~~~~~~~~~~~~~~~~~~~~~~~~~~~~~~~~~~~~~~~\n"
     ]
    },
    {
     "ename": "TypeError",
     "evalue": "'NoneType' object is not callable",
     "output_type": "error",
     "traceback": [
      "\u001b[0;31m---------------------------------------------------------------------------\u001b[0m",
      "\u001b[0;31mTypeError\u001b[0m                                 Traceback (most recent call last)",
      "\u001b[0;32m<ipython-input-43-1b3fdad7ca58>\u001b[0m in \u001b[0;36m<module>\u001b[0;34m\u001b[0m\n\u001b[1;32m     16\u001b[0m     \"\"\"\n\u001b[1;32m     17\u001b[0m \u001b[0;34m\u001b[0m\u001b[0m\n\u001b[0;32m---> 18\u001b[0;31m \u001b[0mfill_example\u001b[0m\u001b[0;34m(\u001b[0m\u001b[0;34m)\u001b[0m\u001b[0;34m\u001b[0m\u001b[0;34m\u001b[0m\u001b[0m\n\u001b[0m",
      "\u001b[0;31mTypeError\u001b[0m: 'NoneType' object is not callable"
     ]
    }
   ],
   "source": [
    "@py11(wrap=hpx_wrapper,funs=[prvec,getexec],headers=[\n",
    "    \"<hpx/hpx.hpp>\",\n",
    "    \"<hpx/include/parallel_fill.hpp>\",\n",
    "    \"<hpx/include/compute.hpp>\",\n",
    "    \"<hpx/include/parallel_executors.hpp>\"\n",
    "    ])\n",
    "def fill_example()->None:\n",
    "    \"\"\"\n",
    "    auto exec = getexec();\n",
    "    \n",
    "    std::vector<float> vd;\n",
    "    for(int i=0;i<5;i++) vd.push_back(1.f);\n",
    "    prvec(vd);\n",
    "    hpx::parallel::fill(hpx::parallel::execution::par.on(exec),vd.begin(),vd.end(),2.0f);\n",
    "    prvec(vd);\n",
    "    \"\"\"\n",
    "\n",
    "fill_example()"
   ]
  },
  {
   "cell_type": "code",
   "execution_count": 44,
   "metadata": {},
   "outputs": [
    {
     "name": "stdout",
     "output_type": "stream",
     "text": [
      "g++ -std=c++17 -L/usr/local/lib64 -lhpx -I/usr/include/python3.6m -I/usr/local/include -rdynamic -fPIC -shared -o /home/stevenrbrandt/tmp/rev_example_v1.so /home/stevenrbrandt/tmp/rev_example.cpp\n",
      "Using 4 threads.\n",
      "{0000000100000000, 0000000000000000}\n",
      "{0000000100000000, 0000000000000000}\n",
      "{0000000100000000, 0000000000000000}\n",
      "{0000000100000000, 0000000000000000}\n",
      "0 1 2 3 4 5 6 7 8 9 \n",
      "9 8 7 6 5 4 3 2 1 0 \n"
     ]
    }
   ],
   "source": [
    "@py11(wrap=hpx_wrapper,funs=[prvec,getexec],headers=[\n",
    "    \"<hpx/hpx.hpp>\",\n",
    "    \"<hpx/parallel/algorithms/reverse.hpp>\",\n",
    "    \"<hpx/include/compute.hpp>\",\n",
    "    \"<hpx/include/parallel_executors.hpp>\"\n",
    "    ])\n",
    "def rev_example()->None:\n",
    "    \"\"\"\n",
    "    auto exec = getexec();\n",
    "    \n",
    "    std::vector<float> vd;\n",
    "    for(int i=0;i<10;i++) vd.push_back(i);\n",
    "    prvec(vd);\n",
    "    hpx::parallel::reverse(hpx::parallel::execution::par.on(exec),vd.begin(),vd.end());\n",
    "    prvec(vd);\n",
    "    \"\"\"\n",
    "\n",
    "rev_example()"
   ]
  },
  {
   "cell_type": "code",
   "execution_count": 45,
   "metadata": {},
   "outputs": [
    {
     "name": "stdout",
     "output_type": "stream",
     "text": [
      "g++ -std=c++17 -L/usr/local/lib64 -lhpx -I/usr/include/python3.6m -I/usr/local/include -rdynamic -fPIC -shared -o /home/stevenrbrandt/tmp/min_example_v1.so /home/stevenrbrandt/tmp/min_example.cpp\n",
      "Using 4 threads.\n",
      "{0000000100000000, 0000000000000000}\n",
      "{0000000100000000, 0000000000000000}\n",
      "{0000000100000000, 0000000000000000}\n",
      "{0000000100000000, 0000000000000000}\n",
      "300 301 302 303 304 305 306 307 308 309 \n",
      "300\n",
      "309\n"
     ]
    }
   ],
   "source": [
    "@py11(wrap=hpx_wrapper,funs=[prvec,getexec],headers=[\n",
    "    \"<hpx/hpx.hpp>\",\n",
    "    \"<hpx/include/parallel_minmax.hpp>\",\n",
    "    \"<hpx/include/compute.hpp>\",\n",
    "    \"<hpx/include/parallel_executors.hpp>\"\n",
    "    ])\n",
    "def min_example()->None:\n",
    "    \"\"\"\n",
    "    auto exec = getexec();\n",
    "    \n",
    "    std::vector<float> vd;\n",
    "    for(int i=0;i<10;i++) vd.push_back(i+300);\n",
    "    prvec(vd);\n",
    "    auto ptr = hpx::parallel::min_element(hpx::parallel::execution::par.on(exec),vd.begin(),vd.end(),std::less<float>());\n",
    "    std::cout << *ptr << std::endl;\n",
    "    ptr = hpx::parallel::max_element(hpx::parallel::execution::par.on(exec),vd,std::less<float>());\n",
    "    std::cout << *ptr << std::endl;\n",
    "    \"\"\"\n",
    "\n",
    "min_example()"
   ]
  },
  {
   "cell_type": "markdown",
   "metadata": {},
   "source": [
    "Exercise: Make this routine run in parallel with HPX"
   ]
  },
  {
   "cell_type": "code",
   "execution_count": 47,
   "metadata": {},
   "outputs": [
    {
     "name": "stdout",
     "output_type": "stream",
     "text": [
      "Using 4 threads.\n",
      "[88, 35, 82, 50, 48, 54, 68, 22, 88, 19, 58, 78, 36, 74, 54, 62, 34, 74, 98, 56]\n",
      "[19, 22, 34, 35, 36, 48, 50, 54, 54, 56, 58, 62, 68, 74, 74, 78, 82, 88, 88, 98]\n"
     ]
    }
   ],
   "source": [
    "@py11(wrap=hpx_wrapper,headers=[\"<hpx/hpx.hpp>\"])\n",
    "def myqsort(v : svec[int])->svec[int]:\n",
    "    \"\"\"\n",
    "    if(v.size() < 2)\n",
    "        return v;\n",
    "    int pivot = v[rand() % v.size()];\n",
    "    std::vector<int> lo, hi, eq;\n",
    "    for(int i=0;i<v.size();i++) {\n",
    "        if(v[i] < pivot)\n",
    "           lo.push_back(v[i]);\n",
    "        else if(v[i] > pivot)\n",
    "           hi.push_back(v[i]);\n",
    "        else\n",
    "           eq.push_back(v[i]);\n",
    "    }\n",
    "    lo = myqsort(lo);\n",
    "    hi = myqsort(hi);\n",
    "    std::vector<int> result;\n",
    "    result.insert(result.end(),lo.begin(),lo.end());\n",
    "    result.insert(result.end(),eq.begin(),eq.end());\n",
    "    result.insert(result.end(),hi.begin(),hi.end());\n",
    "    return result;\n",
    "    \"\"\"\n",
    "\n",
    "from random import randint\n",
    "inp = [randint(1,100) for v in range(20)]\n",
    "out = myqsort(inp)\n",
    "print(inp)\n",
    "print(out)\n",
    "\n",
    "# check result...\n",
    "for i in range(1,len(out)):\n",
    "    assert out[i-1] <= out[i]\n",
    "vals = {}\n",
    "for v in inp:\n",
    "    if v not in vals:\n",
    "        vals[v] = 0\n",
    "    vals[v] += 1\n",
    "for v in out:\n",
    "    # if vals[v] is not defined, our sort messed up\n",
    "    vals[v] -= 1\n",
    "for v in vals.values():\n",
    "    assert v == 0 # should have all the same values in output"
   ]
  },
  {
   "cell_type": "code",
   "execution_count": null,
   "metadata": {},
   "outputs": [],
   "source": []
  }
 ],
 "metadata": {
  "kernelspec": {
   "display_name": "Python 3",
   "language": "python",
   "name": "python3"
  },
  "language_info": {
   "codemirror_mode": {
    "name": "ipython",
    "version": 3
   },
   "file_extension": ".py",
   "mimetype": "text/x-python",
   "name": "python",
   "nbconvert_exporter": "python",
   "pygments_lexer": "ipython3",
   "version": "3.6.8"
  }
 },
 "nbformat": 4,
 "nbformat_minor": 2
}
